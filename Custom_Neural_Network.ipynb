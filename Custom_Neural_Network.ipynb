{
  "nbformat": 4,
  "nbformat_minor": 0,
  "metadata": {
    "colab": {
      "name": "CustomNeuralNetwork.ipynb",
      "provenance": [],
      "collapsed_sections": []
    },
    "kernelspec": {
      "name": "python3",
      "display_name": "Python 3"
    }
  },
  "cells": [
    {
      "cell_type": "code",
      "metadata": {
        "id": "bs_vfx7pIRhs",
        "colab_type": "code",
        "colab": {}
      },
      "source": [
        "# Code Courtesy : https://github.com/mnielsen"
      ],
      "execution_count": 0,
      "outputs": []
    },
    {
      "cell_type": "code",
      "metadata": {
        "id": "9l5F7DtVIePW",
        "colab_type": "code",
        "colab": {}
      },
      "source": [
        "# Author : Sahil Kalra"
      ],
      "execution_count": 0,
      "outputs": []
    },
    {
      "cell_type": "code",
      "metadata": {
        "id": "6hTFAiUoIwTy",
        "colab_type": "code",
        "colab": {}
      },
      "source": [
        "\"\"\"\n",
        "network.py\n",
        "~~~~~~~~~~\n",
        "A module to implement the \n",
        "1. stochastic gradient descent (SGD) learning algorithm for a feedforward \n",
        "neural network.  \n",
        "2. Gradients are calculated using backpropagation.  \n",
        "\"\"\"\n",
        "\n",
        "# Standard library\n",
        "import random\n",
        "# Third-party libraries\n",
        "import numpy as np"
      ],
      "execution_count": 0,
      "outputs": []
    },
    {
      "cell_type": "code",
      "metadata": {
        "id": "goM12MgNI2qv",
        "colab_type": "code",
        "colab": {}
      },
      "source": [
        "# The network class, that makes a custom neural network and calculate \n",
        "# weights and bias while training using SGD.\n",
        "\n",
        "class Network(object):\n",
        "\n",
        "    def __init__(self, sizes):\n",
        "        \"\"\"The list ``sizes`` contains the number of neurons in the\n",
        "        respective layers of the network.  \n",
        "        \n",
        "        For example, if the list was [2, 3, 1] then it would be a \n",
        "        three-layer network, with \n",
        "        - the first layer containing 2 neurons, \n",
        "        - the second layer 3 neurons, and \n",
        "        - the third layer 1 neuron.  \n",
        "        \n",
        "        The biases and weights for the network are initialized randomly, \n",
        "        using a Gaussian distribution with mean 0, and variance 1.  \n",
        "        \n",
        "        Note that the first layer is assumed to be an input layer, \n",
        "        and by convention we won't set any biases for those neurons, \n",
        "        since biases are only ever used in computing the outputs from \n",
        "        later layers.\"\"\"\n",
        "\n",
        "        # Four important parameters of the network are:\n",
        "        # 1. Number of layers = len(sizes)\n",
        "        # 2. Size of each layer = sizes\n",
        "        # 3. Bias of each neuron = random number between 0-1, for all the \n",
        "        #    neurons, except the first layer, as its input layer\n",
        "        #    So if we make Network([3,8,4])\n",
        "        # 4. Weights between each neuron in different layers = random number \n",
        "        #    between 0-1\n",
        "\n",
        "        # Example:\n",
        "        # nw = Network([3,8,4])\n",
        "        # num_layer = 3, sizes = [3,8,4]\n",
        "        # bias = arrayof([random]*8, [random]*4) as first layer i.e. input do \n",
        "        # not have bias\n",
        "        # weight = arrayof ([random](3*8), [random](8*4)), as its between layers\n",
        "        \n",
        "        self.num_layers = len(sizes)\n",
        "        self.sizes = sizes\n",
        "        # sizes[1:] --> except first layer\n",
        "        self.biases = [np.random.randn(y, 1) for y in sizes[1:]]\n",
        "        # zip(sizes[:-1], sizes[1:]) --> 0*1, 1*2, 2*3 ... layers\n",
        "        self.weights = [np.random.randn(y, x)\n",
        "                        for x, y in zip(sizes[:-1], sizes[1:])]\n",
        "\n",
        "    # Compute the value at a layer, provided previous layer output\n",
        "    def feedforward(self, a):\n",
        "        \"\"\"Return the output of the network if ``a`` is input.\"\"\"\n",
        "        for b, w in zip(self.biases, self.weights):\n",
        "            a = sigmoid(np.dot(w, a)+b)\n",
        "        return a\n",
        "\n",
        "    # Stochastic Gradient Descent\n",
        "    def SGD(self, training_data, epochs, mini_batch_size, eta,\n",
        "            test_data=None):\n",
        "        \"\"\"Train the neural network using mini-batch stochastic\n",
        "        gradient descent.  The ``training_data`` is a list of tuples\n",
        "        ``(x, y)`` representing the training inputs and the desired\n",
        "        outputs.  The other non-optional parameters are\n",
        "        self-explanatory.  If ``test_data`` is provided then the\n",
        "        network will be evaluated against the test data after each\n",
        "        epoch, and partial progress printed out.  This is useful for\n",
        "        tracking progress, but slows things down substantially.\"\"\"\n",
        "\n",
        "        # size of test data\n",
        "        if test_data: n_test = len(test_data)\n",
        "        n = len(training_data)\n",
        "\n",
        "        # The number of epochs is a hyperparameter that defines the number times\n",
        "        # that the learning algorithm will work through the entire training dataset.\n",
        "\n",
        "        # Steps:\n",
        "        # 1. loop over the epochs\n",
        "        # 2. shuffle training data and make mini_batches based upon mini_batch_size\n",
        "        # 3. update mini_batch using back propogation\n",
        "        \n",
        "        for j in xrange(epochs):\n",
        "            random.shuffle(training_data)\n",
        "            # imp: if mini_batch_size = 1, SGD = GD\n",
        "            mini_batches = [\n",
        "                training_data[k:k+mini_batch_size]\n",
        "                for k in xrange(0, n, mini_batch_size)]\n",
        "            for mini_batch in mini_batches:\n",
        "                self.update_mini_batch(mini_batch, eta)\n",
        "            if test_data:\n",
        "                print (\"Epoch {0}: {1} / {2}\".format(j, self.evaluate(test_data), n_test))\n",
        "            else:\n",
        "                print (\"Epoch {0} complete\".format(j))\n",
        "\n",
        "    def update_mini_batch(self, mini_batch, eta):\n",
        "        \"\"\"Update the network's weights and biases by applying\n",
        "        gradient descent using backpropagation to a single mini batch.\n",
        "        The ``mini_batch`` is a list of tuples ``(x, y)``, and ``eta``\n",
        "        is the learning rate.\"\"\"\n",
        "\n",
        "        # Two lists, of same size and shape as bias and weights.\n",
        "        # Purpose: In these arrays, the delta values (from back propogation) \n",
        "        # will be added, and finally the weights ans bias will be updated. \n",
        "        nabla_b = [np.zeros(b.shape) for b in self.biases]\n",
        "        nabla_w = [np.zeros(w.shape) for w in self.weights]\n",
        "\n",
        "        for x, y in mini_batch:\n",
        "            delta_nabla_b, delta_nabla_w = self.backprop(x, y)\n",
        "            nabla_b = [nb+dnb for nb, dnb in zip(nabla_b, delta_nabla_b)]\n",
        "            nabla_w = [nw+dnw for nw, dnw in zip(nabla_w, delta_nabla_w)]\n",
        "\n",
        "        # updation of weights and bias once complete mini batch is trained.\n",
        "        self.weights = [w-(eta/len(mini_batch))*nw\n",
        "                        for w, nw in zip(self.weights, nabla_w)]\n",
        "        self.biases = [b-(eta/len(mini_batch))*nb\n",
        "                       for b, nb in zip(self.biases, nabla_b)]\n",
        "\n",
        "    def backprop(self, x, y):\n",
        "        \"\"\"Return a tuple ``(nabla_b, nabla_w)`` representing the\n",
        "        gradient for the cost function C_x.  ``nabla_b`` and\n",
        "        ``nabla_w`` are layer-by-layer lists of numpy arrays, similar\n",
        "        to ``self.biases`` and ``self.weights``.\"\"\"\n",
        "        nabla_b = [np.zeros(b.shape) for b in self.biases]\n",
        "        nabla_w = [np.zeros(w.shape) for w in self.weights]\n",
        "        # feedforward\n",
        "        activation = x\n",
        "        activations = [x] # list to store all the activations, layer by layer\n",
        "        zs = [] # list to store all the z vectors, layer by layer\n",
        "        for b, w in zip(self.biases, self.weights):\n",
        "            z = np.dot(w, activation)+b\n",
        "            zs.append(z)\n",
        "            activation = sigmoid(z)\n",
        "            activations.append(activation)\n",
        "        # backward pass\n",
        "        delta = self.cost_derivative(activations[-1], y) * \\\n",
        "            sigmoid_prime(zs[-1])\n",
        "        nabla_b[-1] = delta\n",
        "        nabla_w[-1] = np.dot(delta, activations[-2].transpose())\n",
        "        # Note that the variable l in the loop below is used a little\n",
        "        # differently to the notation in Chapter 2 of the book.  Here,\n",
        "        # l = 1 means the last layer of neurons, l = 2 is the\n",
        "        # second-last layer, and so on.  It's a renumbering of the\n",
        "        # scheme in the book, used here to take advantage of the fact\n",
        "        # that Python can use negative indices in lists.\n",
        "        for l in xrange(2, self.num_layers):\n",
        "            z = zs[-l]\n",
        "            sp = sigmoid_prime(z)\n",
        "            delta = np.dot(self.weights[-l+1].transpose(), delta) * sp\n",
        "            nabla_b[-l] = delta\n",
        "            nabla_w[-l] = np.dot(delta, activations[-l-1].transpose())\n",
        "        return (nabla_b, nabla_w)\n",
        "\n",
        "    def evaluate(self, test_data):\n",
        "        \"\"\"Return the number of test inputs for which the neural\n",
        "        network outputs the correct result. Note that the neural\n",
        "        network's output is assumed to be the index of whichever\n",
        "        neuron in the final layer has the highest activation.\"\"\"\n",
        "        test_results = [(np.argmax(self.feedforward(x)), y)\n",
        "                        for (x, y) in test_data]\n",
        "        return sum(int(x == y) for (x, y) in test_results)\n",
        "\n",
        "    def cost_derivative(self, output_activations, y):\n",
        "        \"\"\"Return the vector of partial derivatives \\partial C_x /\n",
        "        \\partial a for the output activations.\"\"\"\n",
        "        return (output_activations-y)\n",
        "\n",
        "#### Miscellaneous functions\n",
        "def sigmoid(z):\n",
        "    \"\"\"The sigmoid function.\"\"\"\n",
        "    return 1.0/(1.0+np.exp(-z))\n",
        "\n",
        "def sigmoid_prime(z):\n",
        "    \"\"\"Derivative of the sigmoid function.\"\"\"\n",
        "    return sigmoid(z)*(1-sigmoid(z))\n"
      ],
      "execution_count": 0,
      "outputs": []
    },
    {
      "cell_type": "code",
      "metadata": {
        "id": "qACzEsg77HGG",
        "colab_type": "code",
        "colab": {}
      },
      "source": [
        ""
      ],
      "execution_count": 0,
      "outputs": []
    },
    {
      "cell_type": "code",
      "metadata": {
        "id": "q2IZUlqPLgWE",
        "colab_type": "code",
        "colab": {
          "base_uri": "https://localhost:8080/",
          "height": 487
        },
        "outputId": "2039c992-e63d-485b-e054-d075e1b749a4"
      },
      "source": [
        "# Important Intuitions\n",
        "\n",
        "# 1. Defining a network class\n",
        "\n",
        "# Input layer: 3, Hidden layer (8, 4), output layer:1\n",
        "nw = Network([3,8,4,1])\n",
        "print (\"num_layers: \", nw.num_layers)\n",
        "print (\"sizes: \", nw.sizes)\n",
        "print (\"biases: \", nw.biases) # --> list of 3 arrays of size 8,4,1 respectively\n",
        "print (\"weights: \", nw.weights) # --> list of 3 arrays of size 3*8, 8*4, 4*1\n"
      ],
      "execution_count": 23,
      "outputs": [
        {
          "output_type": "stream",
          "text": [
            "num_layers:  4\n",
            "sizes:  [3, 8, 4, 1]\n",
            "biases:  [array([[-0.21228116],\n",
            "       [ 1.10573055],\n",
            "       [ 1.49164216],\n",
            "       [ 1.24948593],\n",
            "       [ 0.12242802],\n",
            "       [-1.12249716],\n",
            "       [ 0.15248015],\n",
            "       [ 0.5585457 ]]), array([[1.08249752],\n",
            "       [2.82994398],\n",
            "       [1.29802282],\n",
            "       [1.62374744]]), array([[-0.05874254]])]\n",
            "weights:  [array([[ 0.32900952,  0.81367787, -0.06575639],\n",
            "       [-0.74911032,  1.26630368, -0.25991043],\n",
            "       [ 0.85709015, -1.31709583,  0.10178122],\n",
            "       [-0.03685791,  0.10235747, -0.70711728],\n",
            "       [-0.07290356,  1.0125548 ,  0.37904376],\n",
            "       [-0.0115702 , -0.07761898, -0.74945453],\n",
            "       [ 0.71728484, -0.93508882,  1.12967135],\n",
            "       [-1.25333591, -0.03692718,  1.32079112]]), array([[ 0.44336782,  0.83924772,  0.60879273, -0.60382327,  1.41027814,\n",
            "         0.31632938, -1.15085794, -2.09471169],\n",
            "       [ 0.05384218,  1.05062021,  1.44557747, -0.40770556,  1.01173277,\n",
            "        -0.13268443,  1.92650087,  0.58578396],\n",
            "       [-0.23869354, -0.39333727,  0.79469794, -1.15054187, -0.08091823,\n",
            "         1.60247432, -0.9255362 , -0.44343441],\n",
            "       [-1.12524568,  0.14791461, -1.92690847,  1.51633884, -0.38112953,\n",
            "        -1.75260239,  0.83658526,  0.79722894]]), array([[-0.14885624,  0.41615457, -0.0025833 ,  0.04895714]])]\n"
          ],
          "name": "stdout"
        }
      ]
    },
    {
      "cell_type": "code",
      "metadata": {
        "id": "VKAZ0EAl1k32",
        "colab_type": "code",
        "colab": {
          "base_uri": "https://localhost:8080/",
          "height": 188
        },
        "outputId": "537a8f34-3e45-4a66-8079-355026cf2756"
      },
      "source": [
        "# Important intuitions\n",
        "# 2. Feedforward is simple function\n",
        "# 3. SGD.\n",
        "\n",
        "training_data = list(range(100))\n",
        "epochs = 3 # Defines the number of time training needs to be done\n",
        "mini_batch_size = 20 # defines the batch size \n",
        "# (smaller the size, more time in training, closer to simple Gradient descent)\n",
        "for j in range(epochs):\n",
        "    random.shuffle(training_data)\n",
        "    mini_batches = [\n",
        "        training_data[k:k+mini_batch_size]\n",
        "        for k in range(0, len(training_data), mini_batch_size)]\n",
        "    print (\"Total mini batch: \", len(mini_batches))\n",
        "    print (\"Length each mini batch: \",len(mini_batches[0]))\n",
        "    print (\"Mini batch: \", mini_batches)\n",
        "\n",
        "# if mini_batch_size = 1, its same as gradient descent"
      ],
      "execution_count": 24,
      "outputs": [
        {
          "output_type": "stream",
          "text": [
            "Total mini batch:  5\n",
            "Length each mini batch:  20\n",
            "Mini batch:  [[37, 31, 41, 20, 94, 58, 35, 74, 3, 14, 34, 30, 43, 7, 92, 93, 38, 51, 24, 82], [77, 71, 44, 65, 22, 56, 29, 19, 53, 79, 86, 47, 73, 95, 46, 50, 52, 11, 90, 6], [80, 13, 75, 45, 0, 8, 15, 18, 83, 61, 68, 27, 48, 87, 69, 36, 4, 70, 91, 57], [40, 33, 67, 5, 54, 60, 78, 49, 26, 88, 1, 25, 28, 21, 32, 59, 12, 84, 76, 66], [72, 39, 17, 10, 42, 96, 55, 97, 99, 23, 98, 63, 9, 89, 16, 64, 62, 85, 81, 2]]\n",
            "Total mini batch:  5\n",
            "Length each mini batch:  20\n",
            "Mini batch:  [[19, 90, 84, 80, 41, 0, 98, 87, 62, 93, 4, 73, 56, 52, 92, 99, 77, 70, 28, 25], [9, 79, 68, 11, 17, 33, 81, 15, 26, 94, 65, 97, 44, 30, 72, 10, 16, 22, 83, 61], [49, 36, 13, 40, 55, 82, 59, 46, 89, 60, 71, 35, 18, 20, 24, 8, 37, 34, 86, 7], [67, 95, 66, 31, 78, 54, 64, 58, 76, 85, 47, 38, 88, 69, 48, 42, 23, 51, 57, 14], [5, 91, 6, 75, 27, 53, 32, 63, 12, 45, 74, 21, 3, 29, 2, 96, 1, 43, 50, 39]]\n",
            "Total mini batch:  5\n",
            "Length each mini batch:  20\n",
            "Mini batch:  [[0, 6, 1, 94, 80, 73, 67, 75, 45, 24, 51, 3, 32, 95, 49, 17, 14, 47, 18, 62], [66, 55, 7, 48, 28, 42, 61, 5, 50, 65, 30, 88, 70, 33, 26, 41, 31, 63, 68, 16], [81, 13, 40, 10, 35, 38, 4, 21, 78, 74, 87, 90, 97, 71, 86, 43, 39, 83, 98, 19], [8, 82, 69, 84, 93, 34, 46, 53, 91, 12, 64, 37, 72, 77, 27, 85, 54, 29, 58, 44], [76, 9, 23, 99, 96, 36, 59, 2, 60, 56, 11, 25, 52, 22, 57, 20, 79, 15, 89, 92]]\n"
          ],
          "name": "stdout"
        }
      ]
    },
    {
      "cell_type": "code",
      "metadata": {
        "id": "KgHL7WhW3uSg",
        "colab_type": "code",
        "colab": {
          "base_uri": "https://localhost:8080/",
          "height": 386
        },
        "outputId": "e4492da5-2e50-4c5f-c98e-328f911d9fe9"
      },
      "source": [
        "# 4. \n",
        "nabla_b = [np.zeros(b.shape) for b in nw.biases]\n",
        "nabla_w = [np.zeros(b.shape) for b in nw.weights]\n",
        "print (nabla_b)\n",
        "print (nabla_w)"
      ],
      "execution_count": 25,
      "outputs": [
        {
          "output_type": "stream",
          "text": [
            "[array([[0.],\n",
            "       [0.],\n",
            "       [0.],\n",
            "       [0.],\n",
            "       [0.],\n",
            "       [0.],\n",
            "       [0.],\n",
            "       [0.]]), array([[0.],\n",
            "       [0.],\n",
            "       [0.],\n",
            "       [0.]]), array([[0.]])]\n",
            "[array([[0., 0., 0.],\n",
            "       [0., 0., 0.],\n",
            "       [0., 0., 0.],\n",
            "       [0., 0., 0.],\n",
            "       [0., 0., 0.],\n",
            "       [0., 0., 0.],\n",
            "       [0., 0., 0.],\n",
            "       [0., 0., 0.]]), array([[0., 0., 0., 0., 0., 0., 0., 0.],\n",
            "       [0., 0., 0., 0., 0., 0., 0., 0.],\n",
            "       [0., 0., 0., 0., 0., 0., 0., 0.],\n",
            "       [0., 0., 0., 0., 0., 0., 0., 0.]]), array([[0., 0., 0., 0.]])]\n"
          ],
          "name": "stdout"
        }
      ]
    },
    {
      "cell_type": "code",
      "metadata": {
        "id": "Vsg08zylhWAJ",
        "colab_type": "code",
        "colab": {}
      },
      "source": [
        ""
      ],
      "execution_count": 0,
      "outputs": []
    }
  ]
}