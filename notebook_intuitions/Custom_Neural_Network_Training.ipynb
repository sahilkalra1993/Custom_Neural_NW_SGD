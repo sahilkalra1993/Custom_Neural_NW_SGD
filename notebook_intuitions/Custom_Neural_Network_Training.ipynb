{
  "nbformat": 4,
  "nbformat_minor": 0,
  "metadata": {
    "colab": {
      "name": "Custom_Neural_Network_Training.ipynb",
      "provenance": [],
      "collapsed_sections": []
    },
    "kernelspec": {
      "name": "python2",
      "display_name": "Python 2"
    }
  },
  "cells": [
    {
      "cell_type": "code",
      "metadata": {
        "id": "1ugvhNS4mJuP",
        "colab_type": "code",
        "colab": {
          "base_uri": "https://localhost:8080/",
          "height": 118
        },
        "outputId": "8089f646-d8ef-4309-a026-c535f7d8c1a9"
      },
      "source": [
        "!git clone https://github.com/sahilkalra1993/Custom_Neural_NW_SGD.git"
      ],
      "execution_count": 1,
      "outputs": [
        {
          "output_type": "stream",
          "text": [
            "Cloning into 'Custom_Neural_NW_SGD'...\n",
            "remote: Enumerating objects: 25, done.\u001b[K\n",
            "remote: Counting objects:   4% (1/25)\u001b[K\rremote: Counting objects:   8% (2/25)\u001b[K\rremote: Counting objects:  12% (3/25)\u001b[K\rremote: Counting objects:  16% (4/25)\u001b[K\rremote: Counting objects:  20% (5/25)\u001b[K\rremote: Counting objects:  24% (6/25)\u001b[K\rremote: Counting objects:  28% (7/25)\u001b[K\rremote: Counting objects:  32% (8/25)\u001b[K\rremote: Counting objects:  36% (9/25)\u001b[K\rremote: Counting objects:  40% (10/25)\u001b[K\rremote: Counting objects:  44% (11/25)\u001b[K\rremote: Counting objects:  48% (12/25)\u001b[K\rremote: Counting objects:  52% (13/25)\u001b[K\rremote: Counting objects:  56% (14/25)\u001b[K\rremote: Counting objects:  60% (15/25)\u001b[K\rremote: Counting objects:  64% (16/25)\u001b[K\rremote: Counting objects:  68% (17/25)\u001b[K\rremote: Counting objects:  72% (18/25)\u001b[K\rremote: Counting objects:  76% (19/25)\u001b[K\rremote: Counting objects:  80% (20/25)\u001b[K\rremote: Counting objects:  84% (21/25)\u001b[K\rremote: Counting objects:  88% (22/25)\u001b[K\rremote: Counting objects:  92% (23/25)\u001b[K\rremote: Counting objects:  96% (24/25)\u001b[K\rremote: Counting objects: 100% (25/25)\u001b[K\rremote: Counting objects: 100% (25/25), done.\u001b[K\n",
            "remote: Compressing objects:   5% (1/18)\u001b[K\rremote: Compressing objects:  11% (2/18)\u001b[K\rremote: Compressing objects:  16% (3/18)\u001b[K\rremote: Compressing objects:  22% (4/18)\u001b[K\rremote: Compressing objects:  27% (5/18)\u001b[K\rremote: Compressing objects:  33% (6/18)\u001b[K\rremote: Compressing objects:  38% (7/18)\u001b[K\rremote: Compressing objects:  44% (8/18)\u001b[K\rremote: Compressing objects:  50% (9/18)\u001b[K\rremote: Compressing objects:  55% (10/18)\u001b[K\rremote: Compressing objects:  61% (11/18)\u001b[K\rremote: Compressing objects:  66% (12/18)\u001b[K\rremote: Compressing objects:  72% (13/18)\u001b[K\rremote: Compressing objects:  77% (14/18)\u001b[K\rremote: Compressing objects:  83% (15/18)\u001b[K\rremote: Compressing objects:  88% (16/18)\u001b[K\rremote: Compressing objects:  94% (17/18)\u001b[K\rremote: Compressing objects: 100% (18/18)\u001b[K\rremote: Compressing objects: 100% (18/18), done.\u001b[K\n",
            "remote: Total 25 (delta 6), reused 24 (delta 5), pack-reused 0\u001b[K\n",
            "Unpacking objects: 100% (25/25), done.\n"
          ],
          "name": "stdout"
        }
      ]
    },
    {
      "cell_type": "code",
      "metadata": {
        "id": "fRlQCHH0mSWg",
        "colab_type": "code",
        "colab": {
          "base_uri": "https://localhost:8080/",
          "height": 34
        },
        "outputId": "271236ab-ad96-4149-b851-b32795a68311"
      },
      "source": [
        "import os\n",
        "os.listdir(\".\")"
      ],
      "execution_count": 2,
      "outputs": [
        {
          "output_type": "execute_result",
          "data": {
            "text/plain": [
              "['.config', 'Custom_Neural_NW_SGD', 'sample_data']"
            ]
          },
          "metadata": {
            "tags": []
          },
          "execution_count": 2
        }
      ]
    },
    {
      "cell_type": "code",
      "metadata": {
        "id": "Hw3O5oFXmXUg",
        "colab_type": "code",
        "colab": {
          "base_uri": "https://localhost:8080/",
          "height": 34
        },
        "outputId": "729b3980-15e5-491e-cd95-2c264d2b282f"
      },
      "source": [
        "os.chdir(\"Custom_Neural_NW_SGD/src\")\n",
        "os.listdir(\".\")"
      ],
      "execution_count": 5,
      "outputs": [
        {
          "output_type": "execute_result",
          "data": {
            "text/plain": [
              "['network.py', 'mnist_loader.py']"
            ]
          },
          "metadata": {
            "tags": []
          },
          "execution_count": 5
        }
      ]
    },
    {
      "cell_type": "code",
      "metadata": {
        "id": "aoVouBkGmdef",
        "colab_type": "code",
        "colab": {}
      },
      "source": [
        "import network\n",
        "import mnist_loader"
      ],
      "execution_count": 0,
      "outputs": []
    },
    {
      "cell_type": "code",
      "metadata": {
        "id": "oUsjWZt7mj5e",
        "colab_type": "code",
        "colab": {}
      },
      "source": [
        "# Loading the mnist data using the load_wrapper function\n",
        "training_data, validation_data, test_data = mnist_loader.load_data_wrapper()"
      ],
      "execution_count": 0,
      "outputs": []
    },
    {
      "cell_type": "code",
      "metadata": {
        "id": "efUUNdrZmxh6",
        "colab_type": "code",
        "colab": {}
      },
      "source": [
        "# Defining a neural network, with:\n",
        "# 1. Input layer --> 784 neuron\n",
        "# 2. Hidden Layer --> 30 neuron\n",
        "# 3. Output Layer --> 10 neuron\n",
        "\n",
        "net = network.Network([784, 30, 10])"
      ],
      "execution_count": 0,
      "outputs": []
    },
    {
      "cell_type": "code",
      "metadata": {
        "id": "xX4IPjksnBRM",
        "colab_type": "code",
        "colab": {
          "base_uri": "https://localhost:8080/",
          "height": 521
        },
        "outputId": "5a0aaeda-c0e7-44ee-cf5a-210919d48276"
      },
      "source": [
        "# Training the neural net using SGD, with parmeters\n",
        "# epochs: 30\n",
        "# mini_batch_size = 10\n",
        "# learning rate = 3.0\n",
        "\n",
        "net.SGD(training_data, 30, 10, 3.0, test_data=test_data)"
      ],
      "execution_count": 9,
      "outputs": [
        {
          "output_type": "stream",
          "text": [
            "Epoch 0: 8304 / 10000\n",
            "Epoch 1: 9228 / 10000\n",
            "Epoch 2: 9290 / 10000\n",
            "Epoch 3: 9334 / 10000\n",
            "Epoch 4: 9362 / 10000\n",
            "Epoch 5: 9405 / 10000\n",
            "Epoch 6: 9427 / 10000\n",
            "Epoch 7: 9442 / 10000\n",
            "Epoch 8: 9476 / 10000\n",
            "Epoch 9: 9453 / 10000\n",
            "Epoch 10: 9466 / 10000\n",
            "Epoch 11: 9442 / 10000\n",
            "Epoch 12: 9467 / 10000\n",
            "Epoch 13: 9440 / 10000\n",
            "Epoch 14: 9480 / 10000\n",
            "Epoch 15: 9467 / 10000\n",
            "Epoch 16: 9478 / 10000\n",
            "Epoch 17: 9470 / 10000\n",
            "Epoch 18: 9486 / 10000\n",
            "Epoch 19: 9476 / 10000\n",
            "Epoch 20: 9487 / 10000\n",
            "Epoch 21: 9487 / 10000\n",
            "Epoch 22: 9495 / 10000\n",
            "Epoch 23: 9495 / 10000\n",
            "Epoch 24: 9488 / 10000\n",
            "Epoch 25: 9504 / 10000\n",
            "Epoch 26: 9514 / 10000\n",
            "Epoch 27: 9502 / 10000\n",
            "Epoch 28: 9503 / 10000\n",
            "Epoch 29: 9507 / 10000\n"
          ],
          "name": "stdout"
        }
      ]
    },
    {
      "cell_type": "markdown",
      "metadata": {
        "id": "7hf0o6GIoRVu",
        "colab_type": "text"
      },
      "source": [
        "So we can see we get ~95% accuracy with these hyperparameters in or custom neural network. Also the accuracy keeps on increasing with every epoch.\n",
        "We can tune the parameters like learning rate, and network size to see the impact. \n",
        "Although these results also depends upon the random initialization that we made, for some initialization the accuracy may be higher and for some other it may be lower."
      ]
    },
    {
      "cell_type": "code",
      "metadata": {
        "id": "EoKfZPmQnSST",
        "colab_type": "code",
        "colab": {
          "base_uri": "https://localhost:8080/",
          "height": 353
        },
        "outputId": "4c18c154-f669-48db-a601-696e37153d81"
      },
      "source": [
        "# Case 2:\n",
        "\n",
        "# Defining a neural network, with:\n",
        "# 1. Input layer --> 784 neuron\n",
        "# 2. Hidden Layer -> 30*30 neuron\n",
        "# 3. Output Layer --> 10 neuron\n",
        "\n",
        "net = network.Network([784, 30, 30, 10])\n",
        "\n",
        "# Training the neural net using SGD, with parmeters\n",
        "# epochs: 20\n",
        "# mini_batch_size = 10\n",
        "# learning rate = 3.0\n",
        "\n",
        "net.SGD(training_data, 20, 10, 3.0, test_data=test_data)"
      ],
      "execution_count": 10,
      "outputs": [
        {
          "output_type": "stream",
          "text": [
            "Epoch 0: 9117 / 10000\n",
            "Epoch 1: 9250 / 10000\n",
            "Epoch 2: 9285 / 10000\n",
            "Epoch 3: 9320 / 10000\n",
            "Epoch 4: 9361 / 10000\n",
            "Epoch 5: 9381 / 10000\n",
            "Epoch 6: 9370 / 10000\n",
            "Epoch 7: 9455 / 10000\n",
            "Epoch 8: 9439 / 10000\n",
            "Epoch 9: 9415 / 10000\n",
            "Epoch 10: 9460 / 10000\n",
            "Epoch 11: 9461 / 10000\n",
            "Epoch 12: 9439 / 10000\n",
            "Epoch 13: 9488 / 10000\n",
            "Epoch 14: 9460 / 10000\n",
            "Epoch 15: 9462 / 10000\n",
            "Epoch 16: 9470 / 10000\n",
            "Epoch 17: 9512 / 10000\n",
            "Epoch 18: 9504 / 10000\n",
            "Epoch 19: 9455 / 10000\n"
          ],
          "name": "stdout"
        }
      ]
    },
    {
      "cell_type": "markdown",
      "metadata": {
        "id": "8HgOlcdEpKOY",
        "colab_type": "text"
      },
      "source": [
        "Quite similar results"
      ]
    },
    {
      "cell_type": "code",
      "metadata": {
        "id": "q_U2Wf9unl2G",
        "colab_type": "code",
        "colab": {
          "base_uri": "https://localhost:8080/",
          "height": 521
        },
        "outputId": "4ff1d915-d0fd-4538-849e-9f76ac850943"
      },
      "source": [
        "# Case 3:\n",
        "\n",
        "# Defining a neural network, with:\n",
        "# 1. Input layer --> 784 neuron\n",
        "# 2. Hidden Layer -> 100 neuron\n",
        "# 3. Output Layer --> 10 neuron\n",
        "\n",
        "net = network.Network([784, 100, 10])\n",
        "\n",
        "# Training the neural net using SGD, with parmeters\n",
        "# epochs: 30\n",
        "# mini_batch_size = 5\n",
        "# learning rate = 1.0\n",
        "\n",
        "net.SGD(training_data, 30, 5, 1.0, test_data=test_data)"
      ],
      "execution_count": 11,
      "outputs": [
        {
          "output_type": "stream",
          "text": [
            "Epoch 0: 7353 / 10000\n",
            "Epoch 1: 8358 / 10000\n",
            "Epoch 2: 8509 / 10000\n",
            "Epoch 3: 8531 / 10000\n",
            "Epoch 4: 8556 / 10000\n",
            "Epoch 5: 8575 / 10000\n",
            "Epoch 6: 8610 / 10000\n",
            "Epoch 7: 8621 / 10000\n",
            "Epoch 8: 8661 / 10000\n",
            "Epoch 9: 8645 / 10000\n",
            "Epoch 10: 8647 / 10000\n",
            "Epoch 11: 8715 / 10000\n",
            "Epoch 12: 9538 / 10000\n",
            "Epoch 13: 9555 / 10000\n",
            "Epoch 14: 9588 / 10000\n",
            "Epoch 15: 9586 / 10000\n",
            "Epoch 16: 9587 / 10000\n",
            "Epoch 17: 9597 / 10000\n",
            "Epoch 18: 9592 / 10000\n",
            "Epoch 19: 9593 / 10000\n",
            "Epoch 20: 9602 / 10000\n",
            "Epoch 21: 9608 / 10000\n",
            "Epoch 22: 9623 / 10000\n",
            "Epoch 23: 9610 / 10000\n",
            "Epoch 24: 9618 / 10000\n",
            "Epoch 25: 9625 / 10000\n",
            "Epoch 26: 9614 / 10000\n",
            "Epoch 27: 9625 / 10000\n",
            "Epoch 28: 9622 / 10000\n",
            "Epoch 29: 9627 / 10000\n"
          ],
          "name": "stdout"
        }
      ]
    },
    {
      "cell_type": "markdown",
      "metadata": {
        "id": "cqHS0Z8KuWPc",
        "colab_type": "text"
      },
      "source": [
        "96.27%, thats really cool !!"
      ]
    },
    {
      "cell_type": "code",
      "metadata": {
        "id": "5EA3DM6Hp4r4",
        "colab_type": "code",
        "colab": {}
      },
      "source": [
        ""
      ],
      "execution_count": 0,
      "outputs": []
    }
  ]
}